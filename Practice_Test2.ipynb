{
 "cells": [
  {
   "cell_type": "markdown",
   "metadata": {},
   "source": [
    "## Question 1\n",
    "\n",
    "The 'game of life' is a famous cellular automaton that runs on a 2D grid.  Each cell in the grid has two states, alive or dead, and 8 neighbours, north, south, east, west, and the four diagonals. \n",
    "\n",
    "In the Game of Life, the next state of each cell depends on its current state and its number of live\n",
    "neighbours. If a cell is alive, it stays alive if it has 2 or 3 neighbours, otherwise it dies.  If a cell is dead, it stays dead unless it has exactly 3 neighbours.\n",
    "\n",
    "We can simulate this problem using the `scipy.signal` function `correlate2d`.  To do so in an easy way we should ensure that all our cell values are unsigned 8-bit integers.  This can be done during array creation by passing in the following option `dtype=np.uint8` to the NumPy array creation functions."
   ]
  },
  {
   "cell_type": "markdown",
   "metadata": {},
   "source": [
    " "
   ]
  },
  {
   "cell_type": "markdown",
   "metadata": {},
   "source": [
    "### 1a)\n",
    "\n",
    "Set up an array with 11 rows and 11 columns, where all elements are zero, except for the following: all diagonal elements are value 1; all elements in the sixth row are 1.  Display the array graphically below.\n"
   ]
  },
  {
   "cell_type": "code",
   "execution_count": null,
   "metadata": {},
   "outputs": [],
   "source": []
  },
  {
   "cell_type": "markdown",
   "metadata": {},
   "source": [
    "### 1b) \n",
    "\n",
    "Determine the correlation between the matrix in 1a) and the following kernel: `kernel = [[1,1,1],[1,10,1],[1,1,1]]`.  Print out the resulting correlation matrix.\n"
   ]
  },
  {
   "cell_type": "code",
   "execution_count": null,
   "metadata": {},
   "outputs": [],
   "source": [
    "\n"
   ]
  },
  {
   "cell_type": "markdown",
   "metadata": {
    "collapsed": true
   },
   "source": [
    "### 1c)\n",
    "\n",
    "Show how the kernel given above may be used to implement the rules for the game of life, i.e. show the lines of code required to implement one step of the game of life given a start matrix `a` and the kernel defined in 1b)\n"
   ]
  },
  {
   "cell_type": "code",
   "execution_count": null,
   "metadata": {},
   "outputs": [],
   "source": []
  },
  {
   "cell_type": "markdown",
   "metadata": {},
   "source": [
    "### 1d) \n",
    "\n",
    "Display the output graphically after 100 iterations."
   ]
  },
  {
   "cell_type": "code",
   "execution_count": null,
   "metadata": {},
   "outputs": [],
   "source": []
  },
  {
   "cell_type": "markdown",
   "metadata": {},
   "source": [
    "# Question 2\n",
    "\n",
    "The following equation describes the angle $\\theta$ of a mass attached to a rigid pole of length $l$ fixed at a central pivot point, but free to rotate about this point, i.e. a pendulum:\n",
    "\n",
    "$ \\frac{d^2 \\theta}{dt^2} + \\gamma \\frac{d\\theta}{dt} + \\frac{g}{l}\\sin\\theta = f\\cos(\\omega t).$\n",
    "\n",
    "The pendulum mass is subjected to a periodic force $f$ (achieved for instance by twisting the pivot point first one way and then the other), with frequency $\\omega$.  The parameter $g$ is the acceleration due to gravity and $\\gamma$ is the velocity dependent damping of the motion, due to friction.  Take $g = 10$, $l = 1$, $\\gamma = 0.1$, $f = 1$ and $\\omega = 1$. "
   ]
  },
  {
   "cell_type": "markdown",
   "metadata": {
    "collapsed": true
   },
   "source": [
    "## 2a)\n",
    "\n",
    "Provide a function `derivs` which returns the derivatives of the dependent variables, given values of the dependent variables and the current time."
   ]
  },
  {
   "cell_type": "code",
   "execution_count": null,
   "metadata": {},
   "outputs": [],
   "source": []
  },
  {
   "cell_type": "markdown",
   "metadata": {},
   "source": [
    "## 2b)\n",
    "\n",
    "Integrate the system of equations from $t = 0$ to $t = 100$, given the following initial conditions $x(0) = 0$, $y(0) = 0$.  Display the output on  a single set of axes.  Display $x(t)$ with a solid line, $y(t)$ with a dashed line.  If possible, identify the nature of the dynamics."
   ]
  },
  {
   "cell_type": "code",
   "execution_count": null,
   "metadata": {},
   "outputs": [],
   "source": []
  },
  {
   "cell_type": "code",
   "execution_count": null,
   "metadata": {},
   "outputs": [],
   "source": []
  },
  {
   "cell_type": "markdown",
   "metadata": {},
   "source": [
    "## 2c\n",
    "\n",
    "Let the simulation run for long enough to remove transients from the dynamics and then display the output of your simulation on the plane $[\\theta, \\frac{d\\theta}{dt}]$."
   ]
  },
  {
   "cell_type": "code",
   "execution_count": null,
   "metadata": {},
   "outputs": [],
   "source": []
  },
  {
   "cell_type": "markdown",
   "metadata": {},
   "source": [
    "## Question 3\n",
    "\n",
    "Ecologists have been concerned that the population of Christmas beetles is in decline.  To determine Christmas beetle densities a team decides to conduct an experiment at night.  They set up a bright light far from other light sources.  They put the light on a pole so that it is visible from far away in all directions.  Christmas beetles are attracted to the bright light and fly in a straight line towards it.  The ecologists wish to use the arrival time data of the Christmas beetles to determine their average population density in the environment.  As a part of the team you are charged with simulating the expected response.\n"
   ]
  },
  {
   "cell_type": "markdown",
   "metadata": {},
   "source": [
    "### 3a)\n",
    "\n",
    "Set up a `Beetle` class with the following attributes: \n",
    "\n",
    "1. `v` (the speed a beetle flies);\n",
    "2. `xtarget` and `ytarget` (the location of the light);\n",
    "3. `dist` (the distance between the beetle and the target);\n",
    "4. `time` (the time since the light was turned on);\n",
    "5. `arrival_time` (the time at which the beetle reaches the light).\n",
    "\n",
    "On initialisation, a beetle should be given values for xtarget, ytarget, and intial coordinates x and y.  Set `v = 1` for all beetles.\n",
    "\n",
    "Include the following methods in the class:\n",
    "1. An `__init__` method, which accepts as inputs values for `xtarget` (default, 0) and `ytarget` (default, 0) and values for the beetle location `x` and `y` and calculates the distance `dist` between the beetle and the light.  It should also set `time` to be zero (the light has just turned on).\n",
    "2. A `move` method, which takes as input the time step `deltat`, updates the time since the light turned on, and moves the beetle a distance `v deltat` closer to the light, if it hasn't yet reached the light.  The beetle should move in a straight line towards the light.  If for the first time it is within distance `v deltat` of the light at the start of the time step then its distance to the light is set to zero, and the arrival time is recorded. \n",
    "3. A `get_time` method which returns the arrival time of the beetle.  Note, you should decide what to do if the beetle hasn't yet reached the light (perhaps return a negative value for arrival time?).\n"
   ]
  },
  {
   "cell_type": "code",
   "execution_count": null,
   "metadata": {},
   "outputs": [],
   "source": []
  },
  {
   "cell_type": "markdown",
   "metadata": {},
   "source": [
    "## 3b) \n",
    "\n",
    "Set up a `World` class with the following attributes:\n",
    "1. `xworld` and `yworld` (where the world has dimensions [-xworld,xworld], [-yworld, yworld]);\n",
    "2. `xtarget` and `ytarget` (the x and y coordinates of the light);\n",
    "3. `num_beetles` (the total number of beetles in the world);\n",
    "4. All the beetles in the world, as a list of objects;\n",
    "5. `deltat` (the time step for the dynamics)\n",
    "\n",
    "Include the following methods in the class:\n",
    "1. An `__init__` method, which accepts as input values for `xworld` (default, 10), `yworld` (default, 10), `xtarget` (default, 0), `ytarget` (default, 0), `num_beetles` (default, 50), `deltat` (default, 0.01).  The method should set up all the beetle objects and assign them random coordinates from within the range [-xworld,xworld], [-yworld,yworld];\n",
    "2. A `step` method which calls each beetle's move method with the parameter `deltat`;\n",
    "3. A `get_arrival_times` method which returns all the arrival times for beetles which have arrived at the light.\n",
    "\n",
    "\n"
   ]
  },
  {
   "cell_type": "code",
   "execution_count": null,
   "metadata": {},
   "outputs": [],
   "source": []
  },
  {
   "cell_type": "code",
   "execution_count": null,
   "metadata": {},
   "outputs": [],
   "source": [
    "  "
   ]
  },
  {
   "cell_type": "markdown",
   "metadata": {},
   "source": [
    "## 3c)\n",
    "\n",
    "Run the simulation for long enough such that all the beetles reach the light and create a histogram of arrival times.  Provide some advice on how the ecologists could determine beetle density if they turn on the light for a short time and record beetle arrival times.\n"
   ]
  },
  {
   "cell_type": "code",
   "execution_count": null,
   "metadata": {},
   "outputs": [],
   "source": []
  },
  {
   "cell_type": "code",
   "execution_count": null,
   "metadata": {},
   "outputs": [],
   "source": []
  },
  {
   "cell_type": "markdown",
   "metadata": {},
   "source": []
  },
  {
   "cell_type": "code",
   "execution_count": null,
   "metadata": {},
   "outputs": [],
   "source": []
  },
  {
   "cell_type": "code",
   "execution_count": null,
   "metadata": {},
   "outputs": [],
   "source": []
  },
  {
   "cell_type": "code",
   "execution_count": null,
   "metadata": {},
   "outputs": [],
   "source": []
  }
 ],
 "metadata": {
  "kernelspec": {
   "display_name": "Python 3 (ipykernel)",
   "language": "python",
   "name": "python3"
  },
  "language_info": {
   "codemirror_mode": {
    "name": "ipython",
    "version": 3
   },
   "file_extension": ".py",
   "mimetype": "text/x-python",
   "name": "python",
   "nbconvert_exporter": "python",
   "pygments_lexer": "ipython3",
   "version": "3.9.7"
  }
 },
 "nbformat": 4,
 "nbformat_minor": 2
}
