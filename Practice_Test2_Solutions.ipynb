{
 "cells": [
  {
   "cell_type": "markdown",
   "metadata": {},
   "source": [
    "# Class test 2 (worth 20% of your final grade)\n",
    "\n",
    "To complete this test you must have your attendance verified by a tutor in the lab.  Before the close of the lab you must submit your jupyter notebook to Canvas.  The portal will close at 5pm.\n",
    "\n",
    "If you have an Academic Plan which allows you to take more time to complete the test then you will need to email your notebook to the lecturer (tristram.alexander@sydney.edu.au) by the close of the exam.\n",
    "\n",
    "This test is to be taken under open book conditions.  This means you can work on your own computer, or the lab computer, and access all material you have locally, and all material available on Canvas.  If you have material stored in the cloud, such as on Google Drive, then you may access this also.  You may also access the Python help, and viewing the help through the browser (for instance by clicking the sub-links in the Help link above) is acceptable.  You cannot use email, browse the internet or forums, or use Google search while you are taking the test.\n",
    "\n",
    "Please read the questions carefully, and answer all parts.  Each part is worth 2 marks, for a total of 20 marks.  Note that while each question is equally weighted they are not necessarily equal in the amount of time required to complete them.  For instance, question 3 requires significantly more code than the earlier questions.\n",
    "\n",
    "Question 2c is to be completed by COSC2002 students, Question 2d is to be completed by COSC2902 students.  Both COSC2002 and COSC2902 students should complete Questions 2a and 2b.\n",
    "\n",
    "Do not discuss this test, or share any information about the test, with students in the other stream.\n"
   ]
  },
  {
   "cell_type": "markdown",
   "metadata": {},
   "source": [
    "## Question 1\n",
    "\n",
    "The 'game of life' is a famous cellular automaton that runs on a 2D grid.  Each cell in the grid has two states, alive or dead, and 8 neighbours, north, south, east, west, and the four diagonals. \n",
    "\n",
    "In the Game of Life, the next state of each cell depends on its current state and its number of live\n",
    "neighbours. If a cell is alive, it stays alive if it has 2 or 3 neighbours, otherwise it dies.  If a cell is dead, it stays dead unless it has exactly 3 neighbours.\n",
    "\n",
    "We can simulate this problem using the `scipy.signal` function `correlate2d`.  To do so in an easy way we should ensure that all our cell values are unsigned 8-bit integers.  This can be done during array creation by passing in the following option `dtype=np.uint8` to the NumPy array creation functions."
   ]
  },
  {
   "cell_type": "markdown",
   "metadata": {},
   "source": [
    " "
   ]
  },
  {
   "cell_type": "markdown",
   "metadata": {},
   "source": [
    "### 1a)\n",
    "\n",
    "Set up an array with 11 rows and 11 columns, where all elements are zero, except for the following: all diagonal elements are value 1; all elements in the sixth row are 1.  Display the array graphically below.\n"
   ]
  },
  {
   "cell_type": "code",
   "execution_count": 25,
   "metadata": {},
   "outputs": [
    {
     "data": {
      "image/png": "[encoded data removed]",
      "text/plain": [
       "<Figure size 432x288 with 1 Axes>"
      ]
     },
     "metadata": {
      "needs_background": "light"
     },
     "output_type": "display_data"
    }
   ],
   "source": [
    "import numpy as np\n",
    "import matplotlib.pyplot as plt\n",
    "a = np.zeros((11,11),dtype=np.uint8)\n",
    "a[5,:]=np.ones(11,dtype=np.uint8)\n",
    "a = a+np.diag(np.ones(11,dtype=np.uint8))\n",
    "a[a>1] = 1\n",
    "plt.imshow(a)\n",
    "plt.show()\n"
   ]
  },
  {
   "cell_type": "markdown",
   "metadata": {},
   "source": [
    "### 1b) \n",
    "\n",
    "Determine the correlation between the matrix in 1a) and the following kernel: `kernel = [[1,1,1],[1,10,1],[1,1,1]]`.  Print out the resulting correlation matrix.\n"
   ]
  },
  {
   "cell_type": "code",
   "execution_count": 27,
   "metadata": {},
   "outputs": [
    {
     "name": "stdout",
     "output_type": "stream",
     "text": [
      "[[11  2  1  0  0  0  0  0  0  0  0]\n",
      " [ 2 12  2  1  0  0  0  0  0  0  0]\n",
      " [ 1  2 12  2  1  0  0  0  0  0  0]\n",
      " [ 0  1  2 12  2  1  0  0  0  0  0]\n",
      " [ 2  3  4  5 14  4  3  3  3  3  2]\n",
      " [11 12 12 13 13 14 13 13 12 12 11]\n",
      " [ 2  3  3  3  3  4 14  5  4  3  2]\n",
      " [ 0  0  0  0  0  1  2 12  2  1  0]\n",
      " [ 0  0  0  0  0  0  1  2 12  2  1]\n",
      " [ 0  0  0  0  0  0  0  1  2 12  2]\n",
      " [ 0  0  0  0  0  0  0  0  1  2 11]]\n"
     ]
    }
   ],
   "source": [
    "from scipy.signal import correlate2d\n",
    "kernel = np.array([[1, 1, 1],\n",
    "[1,10, 1],\n",
    "[1, 1, 1]])\n",
    "c = correlate2d(a, kernel, mode='same')\n",
    "print(c)\n"
   ]
  },
  {
   "cell_type": "markdown",
   "metadata": {
    "collapsed": true
   },
   "source": [
    "### 1c)\n",
    "\n",
    "Show how the kernel given above may be used to implement the rules for the game of life, i.e. show the lines of code required to implement one step of the game of life given a start matrix `a` and the kernel defined in 1b)\n"
   ]
  },
  {
   "cell_type": "code",
   "execution_count": null,
   "metadata": {
    "collapsed": true
   },
   "outputs": [],
   "source": [
    "table = np.zeros(20, dtype=np.uint8)\n",
    "table[[3, 12, 13]] = 1\n",
    "c = correlate2d(a, kernel, mode='same')\n",
    "a = table[c]\n"
   ]
  },
  {
   "cell_type": "markdown",
   "metadata": {},
   "source": [
    "### 1d) \n",
    "\n",
    "Display the output graphically after 100 iterations."
   ]
  },
  {
   "cell_type": "code",
   "execution_count": 29,
   "metadata": {},
   "outputs": [
    {
     "data": {
      "image/png": "[encoded data removed]",
      "text/plain": [
       "<Figure size 432x288 with 1 Axes>"
      ]
     },
     "metadata": {
      "needs_background": "light"
     },
     "output_type": "display_data"
    }
   ],
   "source": [
    "table = np.zeros(20, dtype=np.uint8)\n",
    "table[[3, 12, 13]] = 1\n",
    "a = np.zeros((11,11),dtype=np.uint8)\n",
    "a[5,:]=np.ones(11,dtype=np.uint8)\n",
    "a = a+np.diag(np.ones(11,dtype=np.uint8))\n",
    "a[a>1] = 1\n",
    "for i in range(100):\n",
    "    c = correlate2d(a, kernel, mode='same')\n",
    "    a = table[c]\n",
    "#print(c)\n",
    "plt.imshow(a)\n",
    "plt.show()\n"
   ]
  },
  {
   "cell_type": "markdown",
   "metadata": {},
   "source": [
    "# Question 2\n",
    "\n",
    "The following equation describes the angle $\\theta$ of a mass attached to a rigid pole of length $l$ fixed at a central pivot point, but free to rotate about this point, i.e. a pendulum:\n",
    "\n",
    "$ \\frac{d^2 \\theta}{dt^2} + \\gamma \\frac{d\\theta}{dt} + \\frac{g}{l}\\sin\\theta = f\\cos(\\omega t).$\n",
    "\n",
    "The pendulum mass is subjected to a periodic force $f$ (achieved for instance by twisting the pivot point first one way and then the other), with frequency $\\omega$.  The parameter $g$ is the acceleration due to gravity and $\\gamma$ is the velocity dependent damping of the motion, due to friction.  Take $g = 10$, $l = 1$, $\\gamma = 0.1$, $f = 1$ and $\\omega = 1$. "
   ]
  },
  {
   "cell_type": "markdown",
   "metadata": {
    "collapsed": true
   },
   "source": [
    "## 2a)\n",
    "\n",
    "Provide a function `derivs` which returns the derivatives of the dependent variables, given values of the dependent variables and the current time."
   ]
  },
  {
   "cell_type": "code",
   "execution_count": 22,
   "metadata": {},
   "outputs": [],
   "source": [
    "import numpy as np\n",
    "def derivs(Y,t):\n",
    "    coeff = 10\n",
    "    f = 1\n",
    "    gamma = 0.1\n",
    "    theta = Y[0]\n",
    "    theta_dot = Y[1]\n",
    "    return [theta_dot, -gamma*theta_dot-coeff*np.sin(theta)+f*np.cos(t)]"
   ]
  },
  {
   "cell_type": "markdown",
   "metadata": {},
   "source": [
    "## 2b)\n",
    "\n",
    "Integrate the system of equations from $t = 0$ to $t = 100$, given the following initial conditions $x(0) = 0$, $y(0) = 0$.  Display the output on  a single set of axes.  Display $x(t)$ with a solid line, $y(t)$ with a dashed line.  If possible, identify the nature of the dynamics."
   ]
  },
  {
   "cell_type": "code",
   "execution_count": 30,
   "metadata": {},
   "outputs": [],
   "source": [
    "from scipy.integrate import odeint\n",
    "import numpy as np\n",
    "import matplotlib.pyplot as plt\n",
    "y0 = [0,0]\n",
    "tspan = np.linspace(0,100,1001)\n",
    "output = odeint(derivs,y0,tspan)\n"
   ]
  },
  {
   "cell_type": "code",
   "execution_count": 31,
   "metadata": {},
   "outputs": [
    {
     "data": {
      "image/png": "[encoded data removed]",
      "text/plain": [
       "<Figure size 432x288 with 1 Axes>"
      ]
     },
     "metadata": {
      "needs_background": "light"
     },
     "output_type": "display_data"
    }
   ],
   "source": [
    "plt.plot(tspan,output[:,0],tspan,output[:,1],'--')\n",
    "plt.show()"
   ]
  },
  {
   "cell_type": "markdown",
   "metadata": {},
   "source": [
    "Dynamics converge to a periodic solution, looks to be of period of forcing."
   ]
  },
  {
   "cell_type": "markdown",
   "metadata": {},
   "source": [
    "## 2c) **COSC2002 ONLY**\n",
    "\n",
    "Let the simulation run for long enough to remove transients from the dynamics and then display the output of your simulation on the plane $[\\theta, \\frac{d\\theta}{dt}]$."
   ]
  },
  {
   "cell_type": "code",
   "execution_count": 32,
   "metadata": {},
   "outputs": [
    {
     "data": {
      "image/png": "[encoded data removed]",
      "text/plain": [
       "<Figure size 432x288 with 1 Axes>"
      ]
     },
     "metadata": {
      "needs_background": "light"
     },
     "output_type": "display_data"
    }
   ],
   "source": [
    "y0 = [output[-1,0],output[-1,1]]\n",
    "tspan = np.linspace(100,200,1001)\n",
    "output_final = odeint(derivs,y0,tspan)\n",
    "plt.plot(output_final[:,0],output_final[:,1])\n",
    "plt.show()"
   ]
  },
  {
   "cell_type": "markdown",
   "metadata": {},
   "source": [
    "## 2d) **COSC2902 ONLY**\n",
    "\n",
    "Investigate the dependence of the dynamics on parameters.  Let the simulation run long enough to remove initial transients and record the maximum value of $\\theta$ as you vary $\\omega$.  Plot the maximum value of $\\theta$ versus $\\omega$ for $\\omega \\in [1,5]$.  What do your results suggest about the dependence on $\\omega$?"
   ]
  },
  {
   "cell_type": "code",
   "execution_count": 34,
   "metadata": {},
   "outputs": [
    {
     "data": {
      "image/png": "[encoded data removed]",
      "text/plain": [
       "<Figure size 432x288 with 1 Axes>"
      ]
     },
     "metadata": {
      "needs_background": "light"
     },
     "output_type": "display_data"
    }
   ],
   "source": [
    "import numpy as np\n",
    "def derivs(Y,t,omega):\n",
    "    coeff = 10\n",
    "    f = 1\n",
    "    gamma = 0.1\n",
    "    theta = Y[0]\n",
    "    theta_dot = Y[1]\n",
    "    return [theta_dot, -gamma*theta_dot-coeff*np.sin(theta)+f*np.cos(omega*t)]\n",
    "def get_val(omega):\n",
    "    y0 = [0,0]\n",
    "    tspan = np.linspace(0,200,2001)\n",
    "    midpoint = len(tspan)//2\n",
    "    output = odeint(lambda y,t: derivs(y, t, omega),y0,tspan)\n",
    "    return max(output[midpoint:-1,0])\n",
    "\n",
    "omega_vals = np.linspace(1,5,21)\n",
    "amp_vals = np.zeros(len(omega_vals))\n",
    "i=0\n",
    "for omega in omega_vals:\n",
    "    amp_vals[i] = get_val(omega)\n",
    "    i+=1\n",
    "plt.plot(omega_vals,amp_vals)\n",
    "plt.show()\n"
   ]
  },
  {
   "cell_type": "markdown",
   "metadata": {},
   "source": [
    "There is a small range of $omega$ which leads to a much larger amplitude in the pendulum (in fact, this is due to resonance between the driving frequency and the natural frequency of the pendulum)."
   ]
  },
  {
   "cell_type": "markdown",
   "metadata": {},
   "source": [
    "## Question 3\n",
    "\n",
    "Ecologists have been concerned that the population of Christmas beetles is in decline.  To determine Christmas beetle densities a team decides to conduct an experiment at night.  They set up a bright light far from other light sources.  They put the light on a pole so that it is visible from far away in all directions.  Christmas beetles are attracted to the bright light and fly in a straight line towards it.  The ecologists wish to use the arrival time data of the Christmas beetles to determine their average population density in the environment.  As a part of the team you are charged with simulating the expected response.\n"
   ]
  },
  {
   "cell_type": "markdown",
   "metadata": {},
   "source": [
    "### 3a)\n",
    "\n",
    "Set up a `Beetle` class with the following attributes: \n",
    "\n",
    "1. `v` (the speed a beetle flies);\n",
    "2. `xtarget` and `ytarget` (the location of the light);\n",
    "3. `dist` (the distance between the beetle and the target);\n",
    "4. `time` (the time since the light was turned on);\n",
    "5. `arrival_time` (the time at which the beetle reaches the light).\n",
    "\n",
    "On initialisation, a beetle should be given values for xtarget, ytarget, and initial coordinates x and y.  Set `v = 1` for all beetles.\n",
    "\n",
    "Include the following methods in the class:\n",
    "1. An `__init__` method, which accepts as inputs values for `xtarget` (default, 0) and `ytarget` (default, 0) and values for the beetle location `x` and `y`, calculates the distance to the light, and sets `time` to be zero.\n",
    "2. A `move` method, which takes as input the time step `deltat`, updates the time since the light turned on, and moves the beetle a distance `v deltat` closer to the light, if it hasn't yet reached the light.  The beetle should move in a straight line towards the light.  If for the first time it is within distance `v deltat` of the light at the start of the time step then its distance to the light is set to zero, and the arrival time is recorded. \n",
    "3. A `get_time` method which returns the arrival time of the beetle.  Note, you should decide what to do if the beetle hasn't yet reached the light (perhaps return a negative value for arrival time?).\n"
   ]
  },
  {
   "cell_type": "code",
   "execution_count": 35,
   "metadata": {},
   "outputs": [],
   "source": [
    "import numpy as np\n",
    "import matplotlib.pyplot as plt\n",
    "\n",
    "class Beetle:\n",
    "    speed = 1\n",
    "    \n",
    "    def __init__(self,xtarget,ytarget,xloc,yloc):\n",
    "        self.time = 0\n",
    "        self.arrival_time = -1\n",
    "        self.moving = 1\n",
    "        self.x = xloc\n",
    "        self.y = yloc\n",
    "        self.xtarget = xtarget\n",
    "        self.ytarget = ytarget\n",
    "        self.dist = np.sqrt((self.x-self.xtarget)**2+(self.y-self.ytarget)**2)\n",
    "        \n",
    "    def move(self,deltat):\n",
    "        step = self.speed*deltat\n",
    "        self.time += step\n",
    "        if self.dist > step:\n",
    "            self.dist -= step\n",
    "        else:\n",
    "            if self.moving:\n",
    "                self.dist = 0\n",
    "                self.moving = 0\n",
    "                self.arrival_time = self.time\n",
    "                \n",
    "    def get_time(self):\n",
    "        return self.arrival_time\n",
    "\n"
   ]
  },
  {
   "cell_type": "markdown",
   "metadata": {},
   "source": [
    "## 3b) \n",
    "\n",
    "Set up a `World` class with the following attributes:\n",
    "1. `xworld` and `yworld` (where the world has dimensions [-xworld,xworld], [-yworld, yworld]);\n",
    "2. `xtarget` and `ytarget` (the x and y coordinates of the light);\n",
    "3. `num_beetles` (the total number of beetles in the world);\n",
    "4. All the beetles in the world, as a list of objects;\n",
    "5. `deltat` (the time step for the dynamics)\n",
    "\n",
    "Include the following methods in the class:\n",
    "1. An `__init__` method, which accepts as input values for `xworld` (default, 10), `yworld` (default, 10), `xtarget` (default, 0), `ytarget` (default, 0), `num_beetles` (default, 50), `deltat` (default, 0.01).  The method should set up all the beetle objects and assign them random coordinates from within the range [-xworld,xworld], [-yworld,yworld];\n",
    "2. A `step` method which calls each beetle's move method with the parameter `deltat`;\n",
    "3. A `get_arrival_times` method which returns all the arrival times for beetles which have arrived at the light.\n",
    "\n",
    "\n"
   ]
  },
  {
   "cell_type": "code",
   "execution_count": 36,
   "metadata": {},
   "outputs": [],
   "source": [
    "class World:\n",
    "    \n",
    "    def __init__(self,xworld = 10,yworld = 10,xtarget = 0, ytarget = 0,num_beetles = 50,deltat = 0.01):\n",
    "        self.xworld = xworld\n",
    "        self.yworld = yworld\n",
    "        xlocs = np.random.uniform(-xworld,xworld,num_beetles)\n",
    "        ylocs = np.random.uniform(-yworld,yworld,num_beetles)\n",
    "        self.xtarget = xtarget\n",
    "        self.ytarget = ytarget\n",
    "        self.deltat = deltat\n",
    "        self.num_beetles = num_beetles\n",
    "        self.beetles = [Beetle(xtarget,ytarget,xlocs[i],ylocs[i]) for i in range(num_beetles)]\n",
    "        \n",
    "    def step(self):\n",
    "        for beetle in self.beetles:\n",
    "            beetle.move(self.deltat)\n",
    "            \n",
    "    def get_arrival_times(self):\n",
    "        arrival_times = np.zeros(len(self.beetles))\n",
    "        i = 0\n",
    "        for beetle in self.beetles:\n",
    "            arrival_times[i] = beetle.get_time()\n",
    "            i+=1\n",
    "        return arrival_times[arrival_times>0]\n"
   ]
  },
  {
   "cell_type": "code",
   "execution_count": null,
   "metadata": {
    "collapsed": true
   },
   "outputs": [],
   "source": [
    "    def __init__(self,xworld = 10,yworld = 10,xtarget = 0, ytarget = 0,num_beetles = 50,deltat = 0.01):\n",
    "        self.xworld = xworld\n",
    "        self.yworld = yworld\n",
    "        xlocs = np.random.uniform(-xworld,xworld,num_beetles)\n",
    "        ylocs = np.random.uniform(-yworld,yworld,num_beetles)\n",
    "        self.xtarget = xtarget\n",
    "        self.ytarget = ytarget\n",
    "        self.deltat = deltat\n",
    "        self.num_beetles = num_beetles\n",
    "        self.beetles = [Beetle(xtarget,ytarget,xlocs[i],ylocs[i]) for i in range(num_beetles)]\n",
    "        \n",
    "    def step(self):\n",
    "        for beetle in self.beetles:\n",
    "            beetle.move(self.deltat)\n",
    "            \n",
    "    def get_arrival_times(self):\n",
    "        arrival_times = np.zeros(len(self.beetles))\n",
    "        i = 0\n",
    "        for beetle in self.beetles:\n",
    "            arrival_times[i] = beetle.get_time()\n",
    "            i+=1\n",
    "        return arrival_times[arrival_times>0]\n"
   ]
  },
  {
   "cell_type": "markdown",
   "metadata": {},
   "source": [
    "## 3c)\n",
    "\n",
    "Run the simulation for long enough such that all the beetles reach the light and create a histogram of arrival times.  Provide some advice on how the ecologists could determine beetle density if they turn on the light for a short time and record beetle arrival times.\n"
   ]
  },
  {
   "cell_type": "code",
   "execution_count": 37,
   "metadata": {},
   "outputs": [],
   "source": [
    "deltat = 0.01\n",
    "num_beetles = 100000\n",
    "test_world = World(num_beetles=num_beetles,deltat = deltat)\n",
    "num_steps = 2000\n",
    "for i in range(num_steps):\n",
    "    test_world.step()\n",
    "times= test_world.get_arrival_times()\n"
   ]
  },
  {
   "cell_type": "code",
   "execution_count": 38,
   "metadata": {},
   "outputs": [
    {
     "data": {
      "image/png": "[encoded data removed]",
      "text/plain": [
       "<Figure size 432x288 with 1 Axes>"
      ]
     },
     "metadata": {
      "needs_background": "light"
     },
     "output_type": "display_data"
    }
   ],
   "source": [
    "max_time = max(times)\n",
    "min_time = min(times)\n",
    "num_bins = 100\n",
    "bins = np.linspace(min_time,max_time,num_bins)\n",
    "plt.hist(times,bins=bins)\n",
    "plt.show()"
   ]
  },
  {
   "cell_type": "markdown",
   "metadata": {},
   "source": [
    "The density of beetles in world is given by the slope at the initially increasing part of the histogram.  This is the phase of the dynamics where beetles on a ring of ever increasing radius reach the light.  The peak is where the circle just inscribes into the square of our world.  After this the beetle numbers arriving rapidly drop off."
   ]
  },
  {
   "cell_type": "code",
   "execution_count": 3,
   "metadata": {
    "collapsed": true
   },
   "outputs": [],
   "source": [
    "den = num_beetles/(20**2)"
   ]
  },
  {
   "cell_type": "code",
   "execution_count": 4,
   "metadata": {},
   "outputs": [
    {
     "name": "stdout",
     "output_type": "stream",
     "text": [
      "250.0\n"
     ]
    }
   ],
   "source": [
    "print(den)"
   ]
  },
  {
   "cell_type": "code",
   "execution_count": null,
   "metadata": {
    "collapsed": true
   },
   "outputs": [],
   "source": []
  }
 ],
 "metadata": {
  "kernelspec": {
   "display_name": "Python 3",
   "language": "python",
   "name": "python3"
  },
  "language_info": {
   "codemirror_mode": {
    "name": "ipython",
    "version": 3
   },
   "file_extension": ".py",
   "mimetype": "text/x-python",
   "name": "python",
   "nbconvert_exporter": "python",
   "pygments_lexer": "ipython3",
   "version": "3.7.4"
  }
 },
 "nbformat": 4,
 "nbformat_minor": 2
}
